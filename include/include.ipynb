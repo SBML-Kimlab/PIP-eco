{
 "cells": [
  {
   "cell_type": "code",
   "execution_count": 1,
   "id": "f97df46c",
   "metadata": {},
   "outputs": [],
   "source": [
    "import os\n",
    "import sys\n",
    "from pipeco import pathotype"
   ]
  },
  {
   "cell_type": "code",
   "execution_count": null,
   "id": "c291dad0",
   "metadata": {},
   "outputs": [],
   "source": []
  }
 ],
 "metadata": {
  "kernelspec": {
   "display_name": "pathotype",
   "language": "python",
   "name": "pathotype"
  },
  "language_info": {
   "codemirror_mode": {
    "name": "ipython",
    "version": 3
   },
   "file_extension": ".py",
   "mimetype": "text/x-python",
   "name": "python",
   "nbconvert_exporter": "python",
   "pygments_lexer": "ipython3",
   "version": "3.7.16"
  }
 },
 "nbformat": 4,
 "nbformat_minor": 5
}
